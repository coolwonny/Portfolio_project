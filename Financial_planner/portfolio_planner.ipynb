{
 "cells": [
  {
   "cell_type": "markdown",
   "metadata": {},
   "source": [
    "# Retirement Planner\n",
    "\n",
    "---\n",
    "\n",
    "## Environment Setup"
   ]
  },
  {
   "cell_type": "code",
   "execution_count": 44,
   "metadata": {},
   "outputs": [],
   "source": [
    "# Import libraries and dependencies\n",
    "import numpy as np\n",
    "import pandas as pd\n",
    "import os\n",
    "from datetime import datetime, timedelta\n",
    "import matplotlib.pyplot as plt\n",
    "import alpaca_trade_api as tradeapi\n",
    "%matplotlib inline"
   ]
  },
  {
   "cell_type": "code",
   "execution_count": 45,
   "metadata": {},
   "outputs": [],
   "source": [
    "# Set the random seed for resutls reproducibility (for testing purposes only)\n",
    "np.random.seed(42)"
   ]
  },
  {
   "cell_type": "markdown",
   "metadata": {},
   "source": [
    "---\n",
    "\n",
    "## Portfolio Planner\n",
    "\n",
    "In this activity, you will use the Alpaca API to grab historical data for a `60/40` portfolio using `SPY` to represent the stock portion and `AGG` to represent the bonds."
   ]
  },
  {
   "cell_type": "code",
   "execution_count": 46,
   "metadata": {},
   "outputs": [],
   "source": [
    "# Load .env enviroment variables\n",
    "from dotenv import load_dotenv\n",
    "load_dotenv(\"c:/Users/Sungwon Kim/Fintech/.env\")\n",
    "\n",
    "# Set Alpaca API key and secret\n",
    "alpaca_api_key = os.getenv(\"ALPACA_API_KEY\")\n",
    "alpaca_secret_key = os.getenv(\"ALPACA_SECRET_KEY\")\n",
    "\n",
    "# Create the Alpaca API object\n",
    "api = tradeapi.REST(\n",
    "    alpaca_api_key,\n",
    "    alpaca_secret_key,\n",
    "    api_version=\"v2\")"
   ]
  },
  {
   "cell_type": "markdown",
   "metadata": {},
   "source": [
    "# Data Collection\n",
    "\n",
    "In this step, you will need to use the Alpaca api to fetch closing prices for the `SPY` and `AGG` tickers. Save the results as a pandas DataFrame"
   ]
  },
  {
   "cell_type": "code",
   "execution_count": 47,
   "metadata": {},
   "outputs": [],
   "source": [
    "# Subset your tickers, then pull returns data:\n",
    "# Set the ticker\n",
    "ticker = [\"SPY\", \"AGG\"]\n",
    "\n",
    "# Set timeframe to '1D'\n",
    "timeframe = \"1D\"\n",
    "\n",
    "# Set start and end datetimes of 1 year, between now and 365 days ago.\n",
    "start_date = pd.Timestamp('2019-01-01', tz='America/New_York').isoformat()\n",
    "end_date = pd.Timestamp('2019-12-31', tz='America/New_York').isoformat()\n",
    "\n",
    "# Get 1 year's worth of historical data for SPY and AGG\n",
    "df = api.get_barset(\n",
    "    ticker,\n",
    "    timeframe,\n",
    "    limit=None,\n",
    "    start=start_date,\n",
    "    end=end_date,\n",
    "    after=None,\n",
    "    until=None,\n",
    ").df\n",
    "\n",
    "# Drop unnecessary columns\n",
    "df = df.drop(\n",
    "    columns=['open', 'high', 'low', 'volume'],\n",
    "    level=1\n",
    ")"
   ]
  },
  {
   "cell_type": "code",
   "execution_count": 48,
   "metadata": {},
   "outputs": [
    {
     "data": {
      "text/html": [
       "<div>\n",
       "<style scoped>\n",
       "    .dataframe tbody tr th:only-of-type {\n",
       "        vertical-align: middle;\n",
       "    }\n",
       "\n",
       "    .dataframe tbody tr th {\n",
       "        vertical-align: top;\n",
       "    }\n",
       "\n",
       "    .dataframe thead tr th {\n",
       "        text-align: left;\n",
       "    }\n",
       "\n",
       "    .dataframe thead tr:last-of-type th {\n",
       "        text-align: right;\n",
       "    }\n",
       "</style>\n",
       "<table border=\"1\" class=\"dataframe\">\n",
       "  <thead>\n",
       "    <tr>\n",
       "      <th></th>\n",
       "      <th>AGG</th>\n",
       "      <th>SPY</th>\n",
       "    </tr>\n",
       "    <tr>\n",
       "      <th></th>\n",
       "      <th>close</th>\n",
       "      <th>close</th>\n",
       "    </tr>\n",
       "    <tr>\n",
       "      <th>time</th>\n",
       "      <th></th>\n",
       "      <th></th>\n",
       "    </tr>\n",
       "  </thead>\n",
       "  <tbody>\n",
       "    <tr>\n",
       "      <th>2019-01-02 00:00:00-05:00</th>\n",
       "      <td>106.585</td>\n",
       "      <td>249.89</td>\n",
       "    </tr>\n",
       "    <tr>\n",
       "      <th>2019-01-03 00:00:00-05:00</th>\n",
       "      <td>107.020</td>\n",
       "      <td>244.46</td>\n",
       "    </tr>\n",
       "    <tr>\n",
       "      <th>2019-01-04 00:00:00-05:00</th>\n",
       "      <td>106.695</td>\n",
       "      <td>252.41</td>\n",
       "    </tr>\n",
       "    <tr>\n",
       "      <th>2019-01-07 00:00:00-05:00</th>\n",
       "      <td>106.470</td>\n",
       "      <td>254.40</td>\n",
       "    </tr>\n",
       "    <tr>\n",
       "      <th>2019-01-08 00:00:00-05:00</th>\n",
       "      <td>106.420</td>\n",
       "      <td>256.65</td>\n",
       "    </tr>\n",
       "  </tbody>\n",
       "</table>\n",
       "</div>"
      ],
      "text/plain": [
       "                               AGG     SPY\n",
       "                             close   close\n",
       "time                                      \n",
       "2019-01-02 00:00:00-05:00  106.585  249.89\n",
       "2019-01-03 00:00:00-05:00  107.020  244.46\n",
       "2019-01-04 00:00:00-05:00  106.695  252.41\n",
       "2019-01-07 00:00:00-05:00  106.470  254.40\n",
       "2019-01-08 00:00:00-05:00  106.420  256.65"
      ]
     },
     "execution_count": 48,
     "metadata": {},
     "output_type": "execute_result"
    }
   ],
   "source": [
    "# Display sample data\n",
    "df.head()"
   ]
  },
  {
   "cell_type": "markdown",
   "metadata": {},
   "source": [
    "---\n",
    "\n",
    "## Monte Carlo Simulation\n",
    "\n",
    "In this step, you will run Monte Carlo Simulations for your portfolio to model portfolio performance at different retirement ages. \n",
    "\n",
    "Complete the following steps:\n",
    "\n",
    "1. Calculate the daily returns for the SPY and AGG closing prices.\n",
    "\n",
    "2. Calculate volatility for both the SPY and AGG closing prices.\n",
    "\n",
    "3. Find the last day's closing price for both stocks and save those as variables\n",
    "\n",
    "4. Run a Monte Carlo Simulation of at least `100` iterations and generate at least `30` years of closing prices\n",
    "\n",
    "**Hint:** There are `252` trading days per year, so the number of records to generate for each Monte Carlo run will be `252 days * 30 years`."
   ]
  },
  {
   "cell_type": "code",
   "execution_count": 49,
   "metadata": {},
   "outputs": [
    {
     "data": {
      "text/html": [
       "<div>\n",
       "<style scoped>\n",
       "    .dataframe tbody tr th:only-of-type {\n",
       "        vertical-align: middle;\n",
       "    }\n",
       "\n",
       "    .dataframe tbody tr th {\n",
       "        vertical-align: top;\n",
       "    }\n",
       "\n",
       "    .dataframe thead tr th {\n",
       "        text-align: left;\n",
       "    }\n",
       "\n",
       "    .dataframe thead tr:last-of-type th {\n",
       "        text-align: right;\n",
       "    }\n",
       "</style>\n",
       "<table border=\"1\" class=\"dataframe\">\n",
       "  <thead>\n",
       "    <tr>\n",
       "      <th></th>\n",
       "      <th>AGG</th>\n",
       "      <th>SPY</th>\n",
       "    </tr>\n",
       "    <tr>\n",
       "      <th></th>\n",
       "      <th>close</th>\n",
       "      <th>close</th>\n",
       "    </tr>\n",
       "    <tr>\n",
       "      <th>time</th>\n",
       "      <th></th>\n",
       "      <th></th>\n",
       "    </tr>\n",
       "  </thead>\n",
       "  <tbody>\n",
       "    <tr>\n",
       "      <th>2019-01-02 00:00:00-05:00</th>\n",
       "      <td>NaN</td>\n",
       "      <td>NaN</td>\n",
       "    </tr>\n",
       "    <tr>\n",
       "      <th>2019-01-03 00:00:00-05:00</th>\n",
       "      <td>0.004081</td>\n",
       "      <td>-0.021730</td>\n",
       "    </tr>\n",
       "    <tr>\n",
       "      <th>2019-01-04 00:00:00-05:00</th>\n",
       "      <td>-0.003037</td>\n",
       "      <td>0.032521</td>\n",
       "    </tr>\n",
       "    <tr>\n",
       "      <th>2019-01-07 00:00:00-05:00</th>\n",
       "      <td>-0.002109</td>\n",
       "      <td>0.007884</td>\n",
       "    </tr>\n",
       "    <tr>\n",
       "      <th>2019-01-08 00:00:00-05:00</th>\n",
       "      <td>-0.000470</td>\n",
       "      <td>0.008844</td>\n",
       "    </tr>\n",
       "  </tbody>\n",
       "</table>\n",
       "</div>"
      ],
      "text/plain": [
       "                                AGG       SPY\n",
       "                              close     close\n",
       "time                                         \n",
       "2019-01-02 00:00:00-05:00       NaN       NaN\n",
       "2019-01-03 00:00:00-05:00  0.004081 -0.021730\n",
       "2019-01-04 00:00:00-05:00 -0.003037  0.032521\n",
       "2019-01-07 00:00:00-05:00 -0.002109  0.007884\n",
       "2019-01-08 00:00:00-05:00 -0.000470  0.008844"
      ]
     },
     "execution_count": 49,
     "metadata": {},
     "output_type": "execute_result"
    }
   ],
   "source": [
    "# Calculate the daily roi for the stocks\n",
    "daily_return = df.pct_change()\n",
    "\n",
    "# Display sample data\n",
    "daily_return.head()"
   ]
  },
  {
   "cell_type": "code",
   "execution_count": 50,
   "metadata": {},
   "outputs": [
    {
     "data": {
      "text/plain": [
       "0.00021276976507473064"
      ]
     },
     "execution_count": 50,
     "metadata": {},
     "output_type": "execute_result"
    }
   ],
   "source": [
    "# Compute daily volatility\n",
    "# average daily_returns of two stocks \n",
    "avg_daily_return_agg = daily_return.mean()['AGG']['close']\n",
    "avg_daily_return_spy = daily_return.mean()['SPY']['close']\n",
    "avg_daily_return_agg"
   ]
  },
  {
   "cell_type": "code",
   "execution_count": 51,
   "metadata": {},
   "outputs": [
    {
     "data": {
      "text/plain": [
       "0.007820053413439366"
      ]
     },
     "execution_count": 51,
     "metadata": {},
     "output_type": "execute_result"
    }
   ],
   "source": [
    "# standard deviations for two stocks\n",
    "std_dev_agg = daily_return.std()['AGG']['close']\n",
    "std_dev_spy = daily_return.std()['SPY']['close']\n",
    "std_dev_spy"
   ]
  },
  {
   "cell_type": "code",
   "execution_count": 52,
   "metadata": {},
   "outputs": [
    {
     "data": {
      "text/plain": [
       "321.92"
      ]
     },
     "execution_count": 52,
     "metadata": {},
     "output_type": "execute_result"
    }
   ],
   "source": [
    "# Save the last day's closing price\n",
    "agg_closing_price = df['AGG']['close'][-1]\n",
    "spy_closing_price = df['SPY']['close'][-1]\n",
    "spy_closing_price"
   ]
  },
  {
   "cell_type": "markdown",
   "metadata": {},
   "source": [
    "#### we're going to iterate 500 simulations for 30 years period."
   ]
  },
  {
   "cell_type": "code",
   "execution_count": 53,
   "metadata": {},
   "outputs": [],
   "source": [
    "# Setup the Monte Carlo Parameters\n",
    "number_simulations = 500\n",
    "number_records = 252 * 30\n",
    "monte_carlo = pd.DataFrame()"
   ]
  },
  {
   "cell_type": "code",
   "execution_count": 54,
   "metadata": {},
   "outputs": [],
   "source": [
    "# Run the Monte Carlo Simulation\n",
    "# Initialize empty DataFrame to hold simulated prices for each simulation\n",
    "portfolio_cumulative_returns = pd.DataFrame()\n",
    "\n",
    "# Run the simulation of projecting stock prices for the next trading year, `500` times\n",
    "for n in range(number_simulations):\n",
    "\n",
    "    # Initialize the simulated prices list with the last closing price of `AGG` and `SPY`\n",
    "    simulated_agg_prices = [agg_closing_price]\n",
    "    simulated_spy_prices = [spy_closing_price]\n",
    "    # Simulate the returns for 252 days * 30 years\n",
    "    for i in range(number_records):\n",
    "        \n",
    "        # Calculate the simulated price using the last price within the list\n",
    "        simulated_agg_price = simulated_agg_prices[-1] * (1 + np.random.normal(avg_daily_return_agg, std_dev_agg))\n",
    "        simulated_spy_price = simulated_spy_prices[-1] * (1 + np.random.normal(avg_daily_return_spy, std_dev_spy))\n",
    "        \n",
    "        # Append the simulated price to the list\n",
    "        simulated_agg_prices.append(simulated_agg_price)\n",
    "        simulated_spy_prices.append(simulated_spy_price)\n",
    "    \n",
    "    # Append the simulated prices of each simulation to DataFrame\n",
    "    monte_carlo[\"AGG prices\"] = pd.Series(simulated_agg_prices)\n",
    "    monte_carlo[\"SPY prices\"] = pd.Series(simulated_spy_prices)\n",
    "   \n",
    "    # Calculate the daily returns of simulated prices\n",
    "    simulated_daily_returns = monte_carlo.pct_change()\n",
    "    \n",
    "    # Set the portfolio weights (60% AGG; 40% SPY)\n",
    "    weights = [0.60, 0.40]\n",
    "\n",
    "    # Use the `dot` function with the weights to multiply weights with each column's simulated daily returns\n",
    "    portfolio_daily_returns = simulated_daily_returns.dot(weights)\n",
    "\n",
    "    # Calculate the normalized, cumulative return series\n",
    "    portfolio_cumulative_returns[n] = (1 + portfolio_daily_returns.fillna(0)).cumprod()"
   ]
  },
  {
   "cell_type": "code",
   "execution_count": 55,
   "metadata": {},
   "outputs": [
    {
     "data": {
      "text/html": [
       "<div>\n",
       "<style scoped>\n",
       "    .dataframe tbody tr th:only-of-type {\n",
       "        vertical-align: middle;\n",
       "    }\n",
       "\n",
       "    .dataframe tbody tr th {\n",
       "        vertical-align: top;\n",
       "    }\n",
       "\n",
       "    .dataframe thead th {\n",
       "        text-align: right;\n",
       "    }\n",
       "</style>\n",
       "<table border=\"1\" class=\"dataframe\">\n",
       "  <thead>\n",
       "    <tr style=\"text-align: right;\">\n",
       "      <th></th>\n",
       "      <th>0</th>\n",
       "      <th>1</th>\n",
       "      <th>2</th>\n",
       "      <th>3</th>\n",
       "      <th>4</th>\n",
       "      <th>5</th>\n",
       "      <th>6</th>\n",
       "      <th>7</th>\n",
       "      <th>8</th>\n",
       "      <th>9</th>\n",
       "      <th>...</th>\n",
       "      <th>490</th>\n",
       "      <th>491</th>\n",
       "      <th>492</th>\n",
       "      <th>493</th>\n",
       "      <th>494</th>\n",
       "      <th>495</th>\n",
       "      <th>496</th>\n",
       "      <th>497</th>\n",
       "      <th>498</th>\n",
       "      <th>499</th>\n",
       "    </tr>\n",
       "  </thead>\n",
       "  <tbody>\n",
       "    <tr>\n",
       "      <th>7556</th>\n",
       "      <td>59.127867</td>\n",
       "      <td>53.479221</td>\n",
       "      <td>56.593826</td>\n",
       "      <td>48.892535</td>\n",
       "      <td>56.080606</td>\n",
       "      <td>93.276344</td>\n",
       "      <td>39.994298</td>\n",
       "      <td>66.792413</td>\n",
       "      <td>57.543212</td>\n",
       "      <td>52.814447</td>\n",
       "      <td>...</td>\n",
       "      <td>52.298625</td>\n",
       "      <td>63.993162</td>\n",
       "      <td>57.423416</td>\n",
       "      <td>51.120911</td>\n",
       "      <td>65.574503</td>\n",
       "      <td>103.395386</td>\n",
       "      <td>48.979611</td>\n",
       "      <td>103.457926</td>\n",
       "      <td>51.300281</td>\n",
       "      <td>54.914809</td>\n",
       "    </tr>\n",
       "    <tr>\n",
       "      <th>7557</th>\n",
       "      <td>59.036364</td>\n",
       "      <td>53.166637</td>\n",
       "      <td>56.519877</td>\n",
       "      <td>48.883807</td>\n",
       "      <td>56.097140</td>\n",
       "      <td>93.257221</td>\n",
       "      <td>39.810162</td>\n",
       "      <td>67.222864</td>\n",
       "      <td>57.514530</td>\n",
       "      <td>52.544942</td>\n",
       "      <td>...</td>\n",
       "      <td>52.189352</td>\n",
       "      <td>63.865428</td>\n",
       "      <td>57.526644</td>\n",
       "      <td>50.884889</td>\n",
       "      <td>65.593548</td>\n",
       "      <td>103.951494</td>\n",
       "      <td>49.122379</td>\n",
       "      <td>103.697506</td>\n",
       "      <td>51.475871</td>\n",
       "      <td>54.799506</td>\n",
       "    </tr>\n",
       "    <tr>\n",
       "      <th>7558</th>\n",
       "      <td>58.883516</td>\n",
       "      <td>53.129893</td>\n",
       "      <td>56.759527</td>\n",
       "      <td>48.936576</td>\n",
       "      <td>56.000544</td>\n",
       "      <td>93.531791</td>\n",
       "      <td>39.838411</td>\n",
       "      <td>67.408017</td>\n",
       "      <td>57.744320</td>\n",
       "      <td>52.534992</td>\n",
       "      <td>...</td>\n",
       "      <td>52.209325</td>\n",
       "      <td>64.042115</td>\n",
       "      <td>57.655384</td>\n",
       "      <td>50.818746</td>\n",
       "      <td>65.854601</td>\n",
       "      <td>103.914228</td>\n",
       "      <td>49.122768</td>\n",
       "      <td>103.110066</td>\n",
       "      <td>51.288412</td>\n",
       "      <td>54.830471</td>\n",
       "    </tr>\n",
       "    <tr>\n",
       "      <th>7559</th>\n",
       "      <td>58.799838</td>\n",
       "      <td>53.161580</td>\n",
       "      <td>56.842046</td>\n",
       "      <td>49.027149</td>\n",
       "      <td>56.318139</td>\n",
       "      <td>93.306099</td>\n",
       "      <td>39.776836</td>\n",
       "      <td>67.321093</td>\n",
       "      <td>57.547273</td>\n",
       "      <td>52.477855</td>\n",
       "      <td>...</td>\n",
       "      <td>52.319486</td>\n",
       "      <td>64.292665</td>\n",
       "      <td>57.366871</td>\n",
       "      <td>50.777157</td>\n",
       "      <td>66.103933</td>\n",
       "      <td>103.723493</td>\n",
       "      <td>49.247424</td>\n",
       "      <td>102.922582</td>\n",
       "      <td>51.119414</td>\n",
       "      <td>54.680179</td>\n",
       "    </tr>\n",
       "    <tr>\n",
       "      <th>7560</th>\n",
       "      <td>59.169344</td>\n",
       "      <td>53.378139</td>\n",
       "      <td>57.292559</td>\n",
       "      <td>49.197032</td>\n",
       "      <td>56.380445</td>\n",
       "      <td>93.342396</td>\n",
       "      <td>39.605621</td>\n",
       "      <td>67.205721</td>\n",
       "      <td>57.256675</td>\n",
       "      <td>52.447028</td>\n",
       "      <td>...</td>\n",
       "      <td>52.458075</td>\n",
       "      <td>64.169988</td>\n",
       "      <td>57.236327</td>\n",
       "      <td>50.928844</td>\n",
       "      <td>66.222684</td>\n",
       "      <td>103.742659</td>\n",
       "      <td>49.195583</td>\n",
       "      <td>102.350441</td>\n",
       "      <td>51.176340</td>\n",
       "      <td>54.878908</td>\n",
       "    </tr>\n",
       "  </tbody>\n",
       "</table>\n",
       "<p>5 rows × 500 columns</p>\n",
       "</div>"
      ],
      "text/plain": [
       "            0          1          2          3          4          5    \\\n",
       "7556  59.127867  53.479221  56.593826  48.892535  56.080606  93.276344   \n",
       "7557  59.036364  53.166637  56.519877  48.883807  56.097140  93.257221   \n",
       "7558  58.883516  53.129893  56.759527  48.936576  56.000544  93.531791   \n",
       "7559  58.799838  53.161580  56.842046  49.027149  56.318139  93.306099   \n",
       "7560  59.169344  53.378139  57.292559  49.197032  56.380445  93.342396   \n",
       "\n",
       "            6          7          8          9    ...        490        491  \\\n",
       "7556  39.994298  66.792413  57.543212  52.814447  ...  52.298625  63.993162   \n",
       "7557  39.810162  67.222864  57.514530  52.544942  ...  52.189352  63.865428   \n",
       "7558  39.838411  67.408017  57.744320  52.534992  ...  52.209325  64.042115   \n",
       "7559  39.776836  67.321093  57.547273  52.477855  ...  52.319486  64.292665   \n",
       "7560  39.605621  67.205721  57.256675  52.447028  ...  52.458075  64.169988   \n",
       "\n",
       "            492        493        494         495        496         497  \\\n",
       "7556  57.423416  51.120911  65.574503  103.395386  48.979611  103.457926   \n",
       "7557  57.526644  50.884889  65.593548  103.951494  49.122379  103.697506   \n",
       "7558  57.655384  50.818746  65.854601  103.914228  49.122768  103.110066   \n",
       "7559  57.366871  50.777157  66.103933  103.723493  49.247424  102.922582   \n",
       "7560  57.236327  50.928844  66.222684  103.742659  49.195583  102.350441   \n",
       "\n",
       "            498        499  \n",
       "7556  51.300281  54.914809  \n",
       "7557  51.475871  54.799506  \n",
       "7558  51.288412  54.830471  \n",
       "7559  51.119414  54.680179  \n",
       "7560  51.176340  54.878908  \n",
       "\n",
       "[5 rows x 500 columns]"
      ]
     },
     "execution_count": 55,
     "metadata": {},
     "output_type": "execute_result"
    }
   ],
   "source": [
    "# Check that the simulation ran successfully\n",
    "portfolio_cumulative_returns.tail()\n",
    "# plt.savefig('monte_carlo_table.png')"
   ]
  },
  {
   "cell_type": "code",
   "execution_count": 56,
   "metadata": {},
   "outputs": [
    {
     "data": {
      "text/plain": [
       "<matplotlib.axes._subplots.AxesSubplot at 0x26ce8f0f248>"
      ]
     },
     "execution_count": 56,
     "metadata": {},
     "output_type": "execute_result"
    },
    {
     "data": {
      "image/png": "[encoded data removed]",
      "text/plain": [
       "<Figure size 1080x360 with 1 Axes>"
      ]
     },
     "metadata": {
      "needs_background": "light"
     },
     "output_type": "display_data"
    }
   ],
   "source": [
    "# Visualize the Simulation\n",
    "plot_title = f\"{n+1} Simulations of Cumulative Portfolio Return Trajectories Over the Next 30 years\"\n",
    "portfolio_cumulative_returns.plot(legend=None, title = plot_title, figsize=(15,5) )"
   ]
  },
  {
   "cell_type": "code",
   "execution_count": 57,
   "metadata": {},
   "outputs": [
    {
     "data": {
      "text/plain": [
       "0    59.169344\n",
       "1    53.378139\n",
       "2    57.292559\n",
       "3    49.197032\n",
       "4    56.380445\n",
       "Name: 7560, dtype: float64"
      ]
     },
     "execution_count": 57,
     "metadata": {},
     "output_type": "execute_result"
    }
   ],
   "source": [
    "# Select the last row for the cumulative returns (cumulative returns at 30 years)\n",
    "ending_portfolio_prices = portfolio_cumulative_returns.iloc[-1, :]\n",
    "ending_portfolio_prices.head()"
   ]
  },
  {
   "cell_type": "code",
   "execution_count": 58,
   "metadata": {},
   "outputs": [
    {
     "data": {
      "text/plain": [
       "(52.234, 66.184]      0.336\n",
       "(38.284, 52.234]      0.262\n",
       "(66.184, 80.133]      0.204\n",
       "(80.133, 94.083]      0.090\n",
       "(24.194, 38.284]      0.066\n",
       "(94.083, 108.033]     0.036\n",
       "(149.881, 163.831]    0.002\n",
       "(121.982, 135.932]    0.002\n",
       "(108.033, 121.982]    0.002\n",
       "(135.932, 149.881]    0.000\n",
       "Name: 7560, dtype: float64"
      ]
     },
     "execution_count": 58,
     "metadata": {},
     "output_type": "execute_result"
    }
   ],
   "source": [
    "# Select the last row for the cumulative returns (cumulative returns at 30 years)\n",
    "ending_portfolio_prices.value_counts(bins=10) / len(ending_portfolio_prices)"
   ]
  },
  {
   "cell_type": "code",
   "execution_count": 59,
   "metadata": {},
   "outputs": [
    {
     "data": {
      "text/plain": [
       "0.05    37.135396\n",
       "0.95    90.971153\n",
       "Name: 7560, dtype: float64"
      ]
     },
     "execution_count": 59,
     "metadata": {},
     "output_type": "execute_result"
    }
   ],
   "source": [
    "# Display the 90% confidence interval for the ending returns\n",
    "confidence_interval = ending_portfolio_prices.quantile(q= [0.05, 0.95])\n",
    "confidence_interval"
   ]
  },
  {
   "cell_type": "code",
   "execution_count": 60,
   "metadata": {},
   "outputs": [
    {
     "data": {
      "text/plain": [
       "<matplotlib.lines.Line2D at 0x26ce339fa88>"
      ]
     },
     "execution_count": 60,
     "metadata": {},
     "output_type": "execute_result"
    },
    {
     "data": {
      "image/png": "[encoded data removed]",
      "text/plain": [
       "<Figure size 432x288 with 1 Axes>"
      ]
     },
     "metadata": {
      "needs_background": "light"
     },
     "output_type": "display_data"
    }
   ],
   "source": [
    "# Visualize the distribution of the ending returns\n",
    "plt.figure();\n",
    "ending_portfolio_prices.plot(kind='hist', bins=50)\n",
    "plt.axvline(confidence_interval.iloc[0], color='r')\n",
    "plt.axvline(confidence_interval.iloc[1], color='r')"
   ]
  },
  {
   "cell_type": "markdown",
   "metadata": {},
   "source": [
    "---"
   ]
  },
  {
   "cell_type": "markdown",
   "metadata": {},
   "source": [
    "## Retirement Analysis\n",
    "\n",
    "In this section, you will use the monte carlo model to answer the following retirement planning questions:\n",
    "\n",
    "1. What are the expected cumulative returns at `30` years for the `10th`, `50th`, and `90th` percentiles?\n",
    "\n",
    "2. Given an initial investment of `$20,000`, what is the expected return in dollars at the `10th`, `50th`, and `90th` percentiles?\n",
    "\n",
    "3. Given the current projected annual income from the Plaid analysis, will a `4%` withdrawal rate meet or exceed that value at the `10th` percentile? Note: This is basically determining if retirement income is equivalent to current income.\n",
    "\n",
    "4. How would a `50%` increase in the initial investment amount affect the `4%` retirement withdrawal? In other words, what happens if the initial investment had been bigger?"
   ]
  },
  {
   "cell_type": "markdown",
   "metadata": {},
   "source": [
    "### What are the expected cumulative returns at 30 years for the 10th, 50th, and 90th percentiles?"
   ]
  },
  {
   "cell_type": "code",
   "execution_count": 61,
   "metadata": {},
   "outputs": [
    {
     "name": "stdout",
     "output_type": "stream",
     "text": [
      "The expected cumulative returns at 30 years for the 10th percentile is 40.2,\n",
      "50th percentile is 58.91 and 90th percentile is 82.98.\n"
     ]
    }
   ],
   "source": [
    "# Compute cumulative returns\n",
    "expected_return_10th_percentile = round(ending_portfolio_prices.quantile(0.1), 2)\n",
    "expected_return_50th_percentile = round(ending_portfolio_prices.quantile(0.5), 2)\n",
    "expected_return_90th_percentile = round(ending_portfolio_prices.quantile(0.9), 2)\n",
    "print(f\"The expected cumulative returns at 30 years for the 10th percentile is {expected_return_10th_percentile},\")\n",
    "print(f\"50th percentile is {expected_return_50th_percentile} and 90th percentile is {expected_return_90th_percentile}.\")"
   ]
  },
  {
   "cell_type": "markdown",
   "metadata": {},
   "source": [
    "### Given an initial investment of `$20,000`, what is the expected portfolio return in dollars at the 10th, 50th, and 90th percentiles?"
   ]
  },
  {
   "cell_type": "code",
   "execution_count": 62,
   "metadata": {},
   "outputs": [
    {
     "name": "stdout",
     "output_type": "stream",
     "text": [
      "The expected cumulative returns at 30 years in dollars at the 10th percentile is $803,952.06,\n",
      "50th percentile is $1,178,287.29 and 90th percentile is $1,659,614.77.\n"
     ]
    }
   ],
   "source": [
    "# Set initial investment\n",
    "initial_investment = 20000\n",
    "# Compute expected portfolio return\n",
    "expected_dollar_return_10th_percentile = round(initial_investment * (ending_portfolio_prices.quantile(0.1)), 2)\n",
    "expected_dollar_return_50th_percentile = round(initial_investment * (ending_portfolio_prices.quantile(0.5)), 2)\n",
    "expected_dollar_return_90th_percentile = round(initial_investment * (ending_portfolio_prices.quantile(0.9)), 2)\n",
    "print(f\"The expected cumulative returns at 30 years in dollars at the 10th percentile is ${expected_dollar_return_10th_percentile:,},\")\n",
    "print(f\"50th percentile is ${expected_dollar_return_50th_percentile:,} and 90th percentile is ${expected_dollar_return_90th_percentile:,}.\")"
   ]
  },
  {
   "cell_type": "markdown",
   "metadata": {},
   "source": [
    "### Given the current projected annual income from the Plaid analysis, will a 4% withdraw rate from the retirement portfolio meet or exceed that value at the 10th percentile?\n",
    "\n",
    "Note: This is effectively saying that 90% of the expected returns will be greater than the return at the 10th percentile, so this can help measure the uncertainty about having enough funds at retirement"
   ]
  },
  {
   "cell_type": "code",
   "execution_count": 63,
   "metadata": {},
   "outputs": [
    {
     "name": "stdout",
     "output_type": "stream",
     "text": [
      "The retirement income meets or exceeds the current projected annual income by $26,073.08\n"
     ]
    }
   ],
   "source": [
    "# Set Plaid's projected income\n",
    "projected_yearly_income = 6085  # From the previous session, we found that the projected yearly income from the Plaid was $6085 (after tax)\n",
    "\n",
    "# Calculate the 4% withdrawal for the ending return as retirement income\n",
    "withdraw_rate = 0.04\n",
    "retirement_income = round(expected_dollar_return_10th_percentile * withdraw_rate, 2)\n",
    "\n",
    "# Determine if the retirement income meets or exceeds the current projected income\n",
    "if retirement_income >= projected_yearly_income:\n",
    "    print(f'The retirement income meets or exceeds the current projected annual income by ${retirement_income - projected_yearly_income:,}')\n",
    "else:\n",
    "    print(f'The retirement income does not meet or exceed the current projected annual income, falling short of ${projected_yearly_income - retirement_income:,}')"
   ]
  },
  {
   "cell_type": "markdown",
   "metadata": {},
   "source": [
    "### How would a 50% increase in the initial investment amount affect the 4% retirement withdrawal?"
   ]
  },
  {
   "cell_type": "code",
   "execution_count": 64,
   "metadata": {},
   "outputs": [
    {
     "name": "stdout",
     "output_type": "stream",
     "text": [
      "The retirement income meets or exceeds the current projected annual income by $42,152.12\n"
     ]
    }
   ],
   "source": [
    "# Re-calculate the retirement income with a 50% increase in the initial investment amount\n",
    "initial_investment_increase = 20000 * 1.5\n",
    "# Compute expected portfolio return\n",
    "expected_dollar_return_10th_percentile_increase = round(initial_investment_increase * (ending_portfolio_prices.quantile(0.1)), 2)\n",
    "retirement_income = round(expected_dollar_return_10th_percentile_increase * withdraw_rate, 2)\n",
    "# Determine if the retirement income meets or exceeds the current projected income\n",
    "if retirement_income >= projected_yearly_income:\n",
    "    print(f'The retirement income meets or exceeds the current projected annual income by ${retirement_income - projected_yearly_income:,}')\n",
    "else:\n",
    "    print(f'The retirement income does not meet or exceed the current projected annual income, falling short of ${projected_yearly_income - retirement_income:,}')"
   ]
  },
  {
   "cell_type": "markdown",
   "metadata": {},
   "source": [
    "### Optional Challenge\n",
    "\n",
    "Use the Monte Carlo data and calculate the cumulative returns at the `5%`, `50%`, and `95%` quartiles and plot this data as a line chart to see how the cumulative returns change over the life of the investment.\n",
    "\n",
    "In this section, you need to calculate and plot the cumulative returns for the median and `90%` confidence intervals. This plot shows the expected cumulative returns for any given day between the first day and the last day of investment. "
   ]
  },
  {
   "cell_type": "markdown",
   "metadata": {},
   "source": [
    "#### Since each quartile is interpolated by default, we need to find the nearest value to each quartile to find out the specific cumulative return."
   ]
  },
  {
   "cell_type": "code",
   "execution_count": 65,
   "metadata": {},
   "outputs": [],
   "source": [
    "# Find the nearest to each of 5th, 50%, 95% quartile.\n",
    "nearest_5th = ending_portfolio_prices.quantile([0.05][0], interpolation='nearest')\n",
    "nearest_50th = ending_portfolio_prices.quantile([0.5][0], interpolation='nearest')\n",
    "nearest_95th = ending_portfolio_prices.quantile([0.95][0], interpolation='nearest')"
   ]
  },
  {
   "cell_type": "code",
   "execution_count": 66,
   "metadata": {},
   "outputs": [
    {
     "data": {
      "text/plain": [
       "383"
      ]
     },
     "execution_count": 66,
     "metadata": {},
     "output_type": "execute_result"
    }
   ],
   "source": [
    "# Define a function that returns each index of the above three quratiles\n",
    "def index_finder(nearest_value):\n",
    "    for i in range(len(ending_portfolio_prices)):\n",
    "         if ending_portfolio_prices.get(i) == nearest_value:\n",
    "            return i\n",
    "# Test for nearest_5th\n",
    "index_finder(nearest_95th)"
   ]
  },
  {
   "cell_type": "markdown",
   "metadata": {},
   "source": [
    "### Using the index_finder function to get each portfolio cumulative returns, given initial investment of USD20,000 "
   ]
  },
  {
   "cell_type": "code",
   "execution_count": 67,
   "metadata": {},
   "outputs": [
    {
     "data": {
      "text/plain": [
       "0    20000.000000\n",
       "1    19893.118047\n",
       "2    19936.765850\n",
       "3    20006.534554\n",
       "4    20017.143977\n",
       "Name: 383, dtype: float64"
      ]
     },
     "execution_count": 67,
     "metadata": {},
     "output_type": "execute_result"
    }
   ],
   "source": [
    "# Compute projected returns\n",
    "cumulative_return_5th_quartile = initial_investment * portfolio_cumulative_returns[index_finder(nearest_5th)]\n",
    "cumulative_return_50th_quartile = initial_investment * portfolio_cumulative_returns[index_finder(nearest_50th)]\n",
    "cumulative_return_95th_quartile = initial_investment * portfolio_cumulative_returns[index_finder(nearest_95th)]\n",
    "\n",
    "# Display sample data\n",
    "cumulative_return_95th_quartile.head()"
   ]
  },
  {
   "cell_type": "code",
   "execution_count": 68,
   "metadata": {},
   "outputs": [
    {
     "data": {
      "text/plain": [
       "<matplotlib.axes._subplots.AxesSubplot at 0x26cf64f7488>"
      ]
     },
     "execution_count": 68,
     "metadata": {},
     "output_type": "execute_result"
    },
    {
     "data": {
      "image/png": "[encoded data removed]",
      "text/plain": [
       "<Figure size 432x288 with 1 Axes>"
      ]
     },
     "metadata": {
      "needs_background": "light"
     },
     "output_type": "display_data"
    }
   ],
   "source": [
    "# Plot the cumulative returns over time\n",
    "cumulative_return_95th_quartile.plot()"
   ]
  },
  {
   "cell_type": "markdown",
   "metadata": {},
   "source": [
    "#### Lastly, plot projected performance over time by overlaying each quartile into a single plot"
   ]
  },
  {
   "cell_type": "code",
   "execution_count": 69,
   "metadata": {},
   "outputs": [
    {
     "data": {
      "text/plain": [
       "<matplotlib.legend.Legend at 0x26cf656a388>"
      ]
     },
     "execution_count": 69,
     "metadata": {},
     "output_type": "execute_result"
    },
    {
     "data": {
      "image/png": "[encoded data removed]",
      "text/plain": [
       "<Figure size 432x288 with 1 Axes>"
      ]
     },
     "metadata": {
      "needs_background": "light"
     },
     "output_type": "display_data"
    }
   ],
   "source": [
    "# Plot projected performance over time\n",
    "ax = cumulative_return_5th_quartile.plot()\n",
    "cumulative_return_50th_quartile.plot(ax=ax)\n",
    "cumulative_return_95th_quartile.plot(ax=ax)\n",
    "\n",
    "ax.legend(['5th quartile', \n",
    "           '50th quartile', \n",
    "           '95th quartile'])"
   ]
  },
  {
   "cell_type": "code",
   "execution_count": null,
   "metadata": {},
   "outputs": [],
   "source": []
  }
 ],
 "metadata": {
  "kernelspec": {
   "display_name": "Python 3",
   "language": "python",
   "name": "python3"
  },
  "language_info": {
   "codemirror_mode": {
    "name": "ipython",
    "version": 3
   },
   "file_extension": ".py",
   "mimetype": "text/x-python",
   "name": "python",
   "nbconvert_exporter": "python",
   "pygments_lexer": "ipython3",
   "version": "3.7.7"
  }
 },
 "nbformat": 4,
 "nbformat_minor": 4
}
