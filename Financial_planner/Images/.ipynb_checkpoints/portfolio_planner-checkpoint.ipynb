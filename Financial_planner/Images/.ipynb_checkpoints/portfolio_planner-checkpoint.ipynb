{
 "cells": [
  {
   "cell_type": "markdown",
   "metadata": {},
   "source": [
    "# Retirement Planner\n",
    "\n",
    "---\n",
    "\n",
    "## Environment Setup"
   ]
  },
  {
   "cell_type": "code",
   "execution_count": 1,
   "metadata": {},
   "outputs": [],
   "source": [
    "# Import libraries and dependencies\n",
    "import numpy as np\n",
    "import pandas as pd\n",
    "import os\n",
    "from datetime import datetime, timedelta\n",
    "import matplotlib.pyplot as plt\n",
    "import alpaca_trade_api as tradeapi\n",
    "%matplotlib inline"
   ]
  },
  {
   "cell_type": "code",
   "execution_count": 2,
   "metadata": {},
   "outputs": [],
   "source": [
    "# Set the random seed for resutls reproducibility (for testing purposes only)\n",
    "np.random.seed(42)"
   ]
  },
  {
   "cell_type": "markdown",
   "metadata": {},
   "source": [
    "---\n",
    "\n",
    "## Portfolio Planner\n",
    "\n",
    "In this activity, you will use the Alpaca API to grab historical data for a `60/40` portfolio using `SPY` to represent the stock portion and `AGG` to represent the bonds."
   ]
  },
  {
   "cell_type": "code",
   "execution_count": 3,
   "metadata": {},
   "outputs": [],
   "source": [
    "# Load .env enviroment variables\n",
    "from dotenv import load_dotenv\n",
    "load_dotenv(\"c:/Users/Sungwon Kim/Fintech/.env\")\n",
    "\n",
    "# Set Alpaca API key and secret\n",
    "alpaca_api_key = os.getenv(\"ALPACA_API_KEY\")\n",
    "alpaca_secret_key = os.getenv(\"ALPACA_SECRET_KEY\")\n",
    "\n",
    "# Create the Alpaca API object\n",
    "api = tradeapi.REST(\n",
    "    alpaca_api_key,\n",
    "    alpaca_secret_key,\n",
    "    api_version=\"v2\")"
   ]
  },
  {
   "cell_type": "markdown",
   "metadata": {},
   "source": [
    "# Data Collection\n",
    "\n",
    "In this step, you will need to use the Alpaca api to fetch closing prices for the `SPY` and `AGG` tickers. Save the results as a pandas DataFrame"
   ]
  },
  {
   "cell_type": "code",
   "execution_count": 4,
   "metadata": {},
   "outputs": [],
   "source": [
    "# Subset your tickers, then pull returns data:\n",
    "# Set the ticker\n",
    "ticker = [\"SPY\", \"AGG\"]\n",
    "\n",
    "# Set timeframe to '1D'\n",
    "timeframe = \"1D\"\n",
    "\n",
    "# Set start and end datetimes of 1 year, between now and 365 days ago.\n",
    "start_date = pd.Timestamp('2019-01-01', tz='America/New_York').isoformat()\n",
    "end_date = pd.Timestamp('2019-12-31', tz='America/New_York').isoformat()\n",
    "\n",
    "# Get 1 year's worth of historical data for SPY and AGG\n",
    "df = api.get_barset(\n",
    "    ticker,\n",
    "    timeframe,\n",
    "    limit=None,\n",
    "    start=start_date,\n",
    "    end=end_date,\n",
    "    after=None,\n",
    "    until=None,\n",
    ").df\n",
    "\n",
    "# Drop unnecessary columns\n",
    "df = df.drop(\n",
    "    columns=['open', 'high', 'low', 'volume'],\n",
    "    level=1\n",
    ")"
   ]
  },
  {
   "cell_type": "code",
   "execution_count": 43,
   "metadata": {},
   "outputs": [
    {
     "data": {
      "text/html": [
       "<div>\n",
       "<style scoped>\n",
       "    .dataframe tbody tr th:only-of-type {\n",
       "        vertical-align: middle;\n",
       "    }\n",
       "\n",
       "    .dataframe tbody tr th {\n",
       "        vertical-align: top;\n",
       "    }\n",
       "\n",
       "    .dataframe thead tr th {\n",
       "        text-align: left;\n",
       "    }\n",
       "\n",
       "    .dataframe thead tr:last-of-type th {\n",
       "        text-align: right;\n",
       "    }\n",
       "</style>\n",
       "<table border=\"1\" class=\"dataframe\">\n",
       "  <thead>\n",
       "    <tr>\n",
       "      <th></th>\n",
       "      <th>AGG</th>\n",
       "      <th>SPY</th>\n",
       "    </tr>\n",
       "    <tr>\n",
       "      <th></th>\n",
       "      <th>close</th>\n",
       "      <th>close</th>\n",
       "    </tr>\n",
       "    <tr>\n",
       "      <th>time</th>\n",
       "      <th></th>\n",
       "      <th></th>\n",
       "    </tr>\n",
       "  </thead>\n",
       "  <tbody>\n",
       "    <tr>\n",
       "      <th>2019-01-02 00:00:00-05:00</th>\n",
       "      <td>106.585</td>\n",
       "      <td>249.89</td>\n",
       "    </tr>\n",
       "    <tr>\n",
       "      <th>2019-01-03 00:00:00-05:00</th>\n",
       "      <td>107.020</td>\n",
       "      <td>244.46</td>\n",
       "    </tr>\n",
       "    <tr>\n",
       "      <th>2019-01-04 00:00:00-05:00</th>\n",
       "      <td>106.695</td>\n",
       "      <td>252.41</td>\n",
       "    </tr>\n",
       "    <tr>\n",
       "      <th>2019-01-07 00:00:00-05:00</th>\n",
       "      <td>106.470</td>\n",
       "      <td>254.40</td>\n",
       "    </tr>\n",
       "    <tr>\n",
       "      <th>2019-01-08 00:00:00-05:00</th>\n",
       "      <td>106.420</td>\n",
       "      <td>256.65</td>\n",
       "    </tr>\n",
       "  </tbody>\n",
       "</table>\n",
       "</div>"
      ],
      "text/plain": [
       "                               AGG     SPY\n",
       "                             close   close\n",
       "time                                      \n",
       "2019-01-02 00:00:00-05:00  106.585  249.89\n",
       "2019-01-03 00:00:00-05:00  107.020  244.46\n",
       "2019-01-04 00:00:00-05:00  106.695  252.41\n",
       "2019-01-07 00:00:00-05:00  106.470  254.40\n",
       "2019-01-08 00:00:00-05:00  106.420  256.65"
      ]
     },
     "execution_count": 43,
     "metadata": {},
     "output_type": "execute_result"
    }
   ],
   "source": [
    "# Display sample data\n",
    "df.head()"
   ]
  },
  {
   "cell_type": "markdown",
   "metadata": {},
   "source": [
    "---\n",
    "\n",
    "## Monte Carlo Simulation\n",
    "\n",
    "In this step, you will run Monte Carlo Simulations for your portfolio to model portfolio performance at different retirement ages. \n",
    "\n",
    "Complete the following steps:\n",
    "\n",
    "1. Calculate the daily returns for the SPY and AGG closing prices.\n",
    "\n",
    "2. Calculate volatility for both the SPY and AGG closing prices.\n",
    "\n",
    "3. Find the last day's closing price for both stocks and save those as variables\n",
    "\n",
    "4. Run a Monte Carlo Simulation of at least `100` iterations and generate at least `30` years of closing prices\n",
    "\n",
    "**Hint:** There are `252` trading days per year, so the number of records to generate for each Monte Carlo run will be `252 days * 30 years`."
   ]
  },
  {
   "cell_type": "code",
   "execution_count": 6,
   "metadata": {},
   "outputs": [
    {
     "data": {
      "text/html": [
       "<div>\n",
       "<style scoped>\n",
       "    .dataframe tbody tr th:only-of-type {\n",
       "        vertical-align: middle;\n",
       "    }\n",
       "\n",
       "    .dataframe tbody tr th {\n",
       "        vertical-align: top;\n",
       "    }\n",
       "\n",
       "    .dataframe thead tr th {\n",
       "        text-align: left;\n",
       "    }\n",
       "\n",
       "    .dataframe thead tr:last-of-type th {\n",
       "        text-align: right;\n",
       "    }\n",
       "</style>\n",
       "<table border=\"1\" class=\"dataframe\">\n",
       "  <thead>\n",
       "    <tr>\n",
       "      <th></th>\n",
       "      <th>AGG</th>\n",
       "      <th>SPY</th>\n",
       "    </tr>\n",
       "    <tr>\n",
       "      <th></th>\n",
       "      <th>close</th>\n",
       "      <th>close</th>\n",
       "    </tr>\n",
       "    <tr>\n",
       "      <th>time</th>\n",
       "      <th></th>\n",
       "      <th></th>\n",
       "    </tr>\n",
       "  </thead>\n",
       "  <tbody>\n",
       "    <tr>\n",
       "      <th>2019-01-02 00:00:00-05:00</th>\n",
       "      <td>NaN</td>\n",
       "      <td>NaN</td>\n",
       "    </tr>\n",
       "    <tr>\n",
       "      <th>2019-01-03 00:00:00-05:00</th>\n",
       "      <td>0.004081</td>\n",
       "      <td>-0.021730</td>\n",
       "    </tr>\n",
       "    <tr>\n",
       "      <th>2019-01-04 00:00:00-05:00</th>\n",
       "      <td>-0.003037</td>\n",
       "      <td>0.032521</td>\n",
       "    </tr>\n",
       "    <tr>\n",
       "      <th>2019-01-07 00:00:00-05:00</th>\n",
       "      <td>-0.002109</td>\n",
       "      <td>0.007884</td>\n",
       "    </tr>\n",
       "    <tr>\n",
       "      <th>2019-01-08 00:00:00-05:00</th>\n",
       "      <td>-0.000470</td>\n",
       "      <td>0.008844</td>\n",
       "    </tr>\n",
       "  </tbody>\n",
       "</table>\n",
       "</div>"
      ],
      "text/plain": [
       "                                AGG       SPY\n",
       "                              close     close\n",
       "time                                         \n",
       "2019-01-02 00:00:00-05:00       NaN       NaN\n",
       "2019-01-03 00:00:00-05:00  0.004081 -0.021730\n",
       "2019-01-04 00:00:00-05:00 -0.003037  0.032521\n",
       "2019-01-07 00:00:00-05:00 -0.002109  0.007884\n",
       "2019-01-08 00:00:00-05:00 -0.000470  0.008844"
      ]
     },
     "execution_count": 6,
     "metadata": {},
     "output_type": "execute_result"
    }
   ],
   "source": [
    "# Calculate the daily roi for the stocks\n",
    "daily_return = df.pct_change()\n",
    "\n",
    "# Display sample data\n",
    "daily_return.head()"
   ]
  },
  {
   "cell_type": "code",
   "execution_count": 7,
   "metadata": {},
   "outputs": [
    {
     "data": {
      "text/plain": [
       "0.00021277231473764173"
      ]
     },
     "execution_count": 7,
     "metadata": {},
     "output_type": "execute_result"
    }
   ],
   "source": [
    "# Compute daily volatility\n",
    "# average daily_returns of two stocks \n",
    "avg_daily_return_agg = daily_return.mean()['AGG']['close']\n",
    "avg_daily_return_spy = daily_return.mean()['SPY']['close']\n",
    "avg_daily_return_agg"
   ]
  },
  {
   "cell_type": "code",
   "execution_count": 8,
   "metadata": {},
   "outputs": [
    {
     "data": {
      "text/plain": [
       "0.007820053413439366"
      ]
     },
     "execution_count": 8,
     "metadata": {},
     "output_type": "execute_result"
    }
   ],
   "source": [
    "# standard deviations for two stocks\n",
    "std_dev_agg = daily_return.std()['AGG']['close']\n",
    "std_dev_spy = daily_return.std()['SPY']['close']\n",
    "std_dev_spy"
   ]
  },
  {
   "cell_type": "code",
   "execution_count": 9,
   "metadata": {},
   "outputs": [
    {
     "data": {
      "text/plain": [
       "321.92"
      ]
     },
     "execution_count": 9,
     "metadata": {},
     "output_type": "execute_result"
    }
   ],
   "source": [
    "# Save the last day's closing price\n",
    "agg_closing_price = df['AGG']['close'][-1]\n",
    "spy_closing_price = df['SPY']['close'][-1]\n",
    "spy_closing_price"
   ]
  },
  {
   "cell_type": "markdown",
   "metadata": {},
   "source": [
    "#### we're going to iterate 500 simulations for 30 years period."
   ]
  },
  {
   "cell_type": "code",
   "execution_count": 10,
   "metadata": {},
   "outputs": [],
   "source": [
    "# Setup the Monte Carlo Parameters\n",
    "number_simulations = 500\n",
    "number_records = 252 * 30\n",
    "monte_carlo = pd.DataFrame()"
   ]
  },
  {
   "cell_type": "code",
   "execution_count": 11,
   "metadata": {},
   "outputs": [],
   "source": [
    "# Run the Monte Carlo Simulation\n",
    "# Initialize empty DataFrame to hold simulated prices for each simulation\n",
    "portfolio_cumulative_returns = pd.DataFrame()\n",
    "\n",
    "# Run the simulation of projecting stock prices for the next trading year, `500` times\n",
    "for n in range(number_simulations):\n",
    "\n",
    "    # Initialize the simulated prices list with the last closing price of `AGG` and `SPY`\n",
    "    simulated_agg_prices = [agg_closing_price]\n",
    "    simulated_spy_prices = [spy_closing_price]\n",
    "    # Simulate the returns for 252 days * 30 years\n",
    "    for i in range(number_records):\n",
    "        \n",
    "        # Calculate the simulated price using the last price within the list\n",
    "        simulated_agg_price = simulated_agg_prices[-1] * (1 + np.random.normal(avg_daily_return_agg, std_dev_agg))\n",
    "        simulated_spy_price = simulated_spy_prices[-1] * (1 + np.random.normal(avg_daily_return_spy, std_dev_spy))\n",
    "        \n",
    "        # Append the simulated price to the list\n",
    "        simulated_agg_prices.append(simulated_agg_price)\n",
    "        simulated_spy_prices.append(simulated_spy_price)\n",
    "    \n",
    "    # Append the simulated prices of each simulation to DataFrame\n",
    "    monte_carlo[\"AGG prices\"] = pd.Series(simulated_agg_prices)\n",
    "    monte_carlo[\"SPY prices\"] = pd.Series(simulated_spy_prices)\n",
    "   \n",
    "    # Calculate the daily returns of simulated prices\n",
    "    simulated_daily_returns = monte_carlo.pct_change()\n",
    "    \n",
    "    # Set the portfolio weights (60% AGG; 40% SPY)\n",
    "    weights = [0.60, 0.40]\n",
    "\n",
    "    # Use the `dot` function with the weights to multiply weights with each column's simulated daily returns\n",
    "    portfolio_daily_returns = simulated_daily_returns.dot(weights)\n",
    "\n",
    "    # Calculate the normalized, cumulative return series\n",
    "    portfolio_cumulative_returns[n] = (1 + portfolio_daily_returns.fillna(0)).cumprod()"
   ]
  },
  {
   "cell_type": "code",
   "execution_count": 12,
   "metadata": {},
   "outputs": [
    {
     "data": {
      "text/html": [
       "<div>\n",
       "<style scoped>\n",
       "    .dataframe tbody tr th:only-of-type {\n",
       "        vertical-align: middle;\n",
       "    }\n",
       "\n",
       "    .dataframe tbody tr th {\n",
       "        vertical-align: top;\n",
       "    }\n",
       "\n",
       "    .dataframe thead th {\n",
       "        text-align: right;\n",
       "    }\n",
       "</style>\n",
       "<table border=\"1\" class=\"dataframe\">\n",
       "  <thead>\n",
       "    <tr style=\"text-align: right;\">\n",
       "      <th></th>\n",
       "      <th>0</th>\n",
       "      <th>1</th>\n",
       "      <th>2</th>\n",
       "      <th>3</th>\n",
       "      <th>4</th>\n",
       "      <th>5</th>\n",
       "      <th>6</th>\n",
       "      <th>7</th>\n",
       "      <th>8</th>\n",
       "      <th>9</th>\n",
       "      <th>...</th>\n",
       "      <th>490</th>\n",
       "      <th>491</th>\n",
       "      <th>492</th>\n",
       "      <th>493</th>\n",
       "      <th>494</th>\n",
       "      <th>495</th>\n",
       "      <th>496</th>\n",
       "      <th>497</th>\n",
       "      <th>498</th>\n",
       "      <th>499</th>\n",
       "    </tr>\n",
       "  </thead>\n",
       "  <tbody>\n",
       "    <tr>\n",
       "      <th>7556</th>\n",
       "      <td>59.129627</td>\n",
       "      <td>53.479116</td>\n",
       "      <td>56.596496</td>\n",
       "      <td>48.895751</td>\n",
       "      <td>56.083073</td>\n",
       "      <td>93.274757</td>\n",
       "      <td>39.996349</td>\n",
       "      <td>66.799389</td>\n",
       "      <td>57.545952</td>\n",
       "      <td>52.817846</td>\n",
       "      <td>...</td>\n",
       "      <td>52.290894</td>\n",
       "      <td>63.996478</td>\n",
       "      <td>57.421531</td>\n",
       "      <td>51.123400</td>\n",
       "      <td>65.579212</td>\n",
       "      <td>103.402762</td>\n",
       "      <td>48.974456</td>\n",
       "      <td>103.457673</td>\n",
       "      <td>51.306854</td>\n",
       "      <td>54.909213</td>\n",
       "    </tr>\n",
       "    <tr>\n",
       "      <th>7557</th>\n",
       "      <td>59.038108</td>\n",
       "      <td>53.166574</td>\n",
       "      <td>56.522566</td>\n",
       "      <td>48.887013</td>\n",
       "      <td>56.099535</td>\n",
       "      <td>93.255618</td>\n",
       "      <td>39.812175</td>\n",
       "      <td>67.229927</td>\n",
       "      <td>57.517215</td>\n",
       "      <td>52.548320</td>\n",
       "      <td>...</td>\n",
       "      <td>52.181567</td>\n",
       "      <td>63.868733</td>\n",
       "      <td>57.524730</td>\n",
       "      <td>50.887401</td>\n",
       "      <td>65.598249</td>\n",
       "      <td>103.958984</td>\n",
       "      <td>49.117276</td>\n",
       "      <td>103.697240</td>\n",
       "      <td>51.482537</td>\n",
       "      <td>54.793870</td>\n",
       "    </tr>\n",
       "    <tr>\n",
       "      <th>7558</th>\n",
       "      <td>58.885215</td>\n",
       "      <td>53.129831</td>\n",
       "      <td>56.762296</td>\n",
       "      <td>48.939786</td>\n",
       "      <td>56.002963</td>\n",
       "      <td>93.530185</td>\n",
       "      <td>39.840437</td>\n",
       "      <td>67.415103</td>\n",
       "      <td>57.747067</td>\n",
       "      <td>52.538335</td>\n",
       "      <td>...</td>\n",
       "      <td>52.201526</td>\n",
       "      <td>64.045472</td>\n",
       "      <td>57.653461</td>\n",
       "      <td>50.821285</td>\n",
       "      <td>65.859368</td>\n",
       "      <td>103.921655</td>\n",
       "      <td>49.117656</td>\n",
       "      <td>103.109708</td>\n",
       "      <td>51.295114</td>\n",
       "      <td>54.824784</td>\n",
       "    </tr>\n",
       "    <tr>\n",
       "      <th>7559</th>\n",
       "      <td>58.801519</td>\n",
       "      <td>53.161571</td>\n",
       "      <td>56.844844</td>\n",
       "      <td>49.030366</td>\n",
       "      <td>56.320549</td>\n",
       "      <td>93.304576</td>\n",
       "      <td>39.778858</td>\n",
       "      <td>67.328142</td>\n",
       "      <td>57.550030</td>\n",
       "      <td>52.481162</td>\n",
       "      <td>...</td>\n",
       "      <td>52.311716</td>\n",
       "      <td>64.296068</td>\n",
       "      <td>57.364889</td>\n",
       "      <td>50.779634</td>\n",
       "      <td>66.108722</td>\n",
       "      <td>103.730853</td>\n",
       "      <td>49.242376</td>\n",
       "      <td>102.922209</td>\n",
       "      <td>51.126126</td>\n",
       "      <td>54.674510</td>\n",
       "    </tr>\n",
       "    <tr>\n",
       "      <th>7560</th>\n",
       "      <td>59.171007</td>\n",
       "      <td>53.378151</td>\n",
       "      <td>57.295425</td>\n",
       "      <td>49.200255</td>\n",
       "      <td>56.382877</td>\n",
       "      <td>93.340898</td>\n",
       "      <td>39.607632</td>\n",
       "      <td>67.212707</td>\n",
       "      <td>57.259416</td>\n",
       "      <td>52.450330</td>\n",
       "      <td>...</td>\n",
       "      <td>52.450284</td>\n",
       "      <td>64.173440</td>\n",
       "      <td>57.234309</td>\n",
       "      <td>50.931389</td>\n",
       "      <td>66.227483</td>\n",
       "      <td>103.750026</td>\n",
       "      <td>49.190507</td>\n",
       "      <td>102.349961</td>\n",
       "      <td>51.182994</td>\n",
       "      <td>54.873222</td>\n",
       "    </tr>\n",
       "  </tbody>\n",
       "</table>\n",
       "<p>5 rows × 500 columns</p>\n",
       "</div>"
      ],
      "text/plain": [
       "            0          1          2          3          4          5    \\\n",
       "7556  59.129627  53.479116  56.596496  48.895751  56.083073  93.274757   \n",
       "7557  59.038108  53.166574  56.522566  48.887013  56.099535  93.255618   \n",
       "7558  58.885215  53.129831  56.762296  48.939786  56.002963  93.530185   \n",
       "7559  58.801519  53.161571  56.844844  49.030366  56.320549  93.304576   \n",
       "7560  59.171007  53.378151  57.295425  49.200255  56.382877  93.340898   \n",
       "\n",
       "            6          7          8          9    ...        490        491  \\\n",
       "7556  39.996349  66.799389  57.545952  52.817846  ...  52.290894  63.996478   \n",
       "7557  39.812175  67.229927  57.517215  52.548320  ...  52.181567  63.868733   \n",
       "7558  39.840437  67.415103  57.747067  52.538335  ...  52.201526  64.045472   \n",
       "7559  39.778858  67.328142  57.550030  52.481162  ...  52.311716  64.296068   \n",
       "7560  39.607632  67.212707  57.259416  52.450330  ...  52.450284  64.173440   \n",
       "\n",
       "            492        493        494         495        496         497  \\\n",
       "7556  57.421531  51.123400  65.579212  103.402762  48.974456  103.457673   \n",
       "7557  57.524730  50.887401  65.598249  103.958984  49.117276  103.697240   \n",
       "7558  57.653461  50.821285  65.859368  103.921655  49.117656  103.109708   \n",
       "7559  57.364889  50.779634  66.108722  103.730853  49.242376  102.922209   \n",
       "7560  57.234309  50.931389  66.227483  103.750026  49.190507  102.349961   \n",
       "\n",
       "            498        499  \n",
       "7556  51.306854  54.909213  \n",
       "7557  51.482537  54.793870  \n",
       "7558  51.295114  54.824784  \n",
       "7559  51.126126  54.674510  \n",
       "7560  51.182994  54.873222  \n",
       "\n",
       "[5 rows x 500 columns]"
      ]
     },
     "execution_count": 12,
     "metadata": {},
     "output_type": "execute_result"
    }
   ],
   "source": [
    "# Check that the simulation ran successfully\n",
    "portfolio_cumulative_returns.tail()"
   ]
  },
  {
   "cell_type": "code",
   "execution_count": 13,
   "metadata": {},
   "outputs": [
    {
     "data": {
      "text/plain": [
       "<matplotlib.axes._subplots.AxesSubplot at 0x26ce23acb08>"
      ]
     },
     "execution_count": 13,
     "metadata": {},
     "output_type": "execute_result"
    },
    {
     "data": {
      "image/png": "[encoded data removed]",
      "text/plain": [
       "<Figure size 1080x360 with 1 Axes>"
      ]
     },
     "metadata": {
      "needs_background": "light"
     },
     "output_type": "display_data"
    }
   ],
   "source": [
    "# Visualize the Simulation\n",
    "plot_title = f\"{n+1} Simulations of Cumulative Portfolio Return Trajectories Over the Next 30 years\"\n",
    "portfolio_cumulative_returns.plot(legend=None, title = plot_title, figsize=(15,5) )"
   ]
  },
  {
   "cell_type": "code",
   "execution_count": 14,
   "metadata": {},
   "outputs": [
    {
     "data": {
      "text/plain": [
       "0    59.171007\n",
       "1    53.378151\n",
       "2    57.295425\n",
       "3    49.200255\n",
       "4    56.382877\n",
       "Name: 7560, dtype: float64"
      ]
     },
     "execution_count": 14,
     "metadata": {},
     "output_type": "execute_result"
    }
   ],
   "source": [
    "# Select the last row for the cumulative returns (cumulative returns at 30 years)\n",
    "ending_portfolio_prices = portfolio_cumulative_returns.iloc[-1, :]\n",
    "ending_portfolio_prices.head()"
   ]
  },
  {
   "cell_type": "code",
   "execution_count": 15,
   "metadata": {},
   "outputs": [
    {
     "data": {
      "text/plain": [
       "(52.238, 66.189]      0.336\n",
       "(38.286, 52.238]      0.262\n",
       "(66.189, 80.14]       0.204\n",
       "(80.14, 94.091]       0.090\n",
       "(24.195, 38.286]      0.066\n",
       "(94.091, 108.042]     0.036\n",
       "(149.896, 163.847]    0.002\n",
       "(121.994, 135.945]    0.002\n",
       "(108.042, 121.994]    0.002\n",
       "(135.945, 149.896]    0.000\n",
       "Name: 7560, dtype: float64"
      ]
     },
     "execution_count": 15,
     "metadata": {},
     "output_type": "execute_result"
    }
   ],
   "source": [
    "# Select the last row for the cumulative returns (cumulative returns at 30 years)\n",
    "ending_portfolio_prices.value_counts(bins=10) / len(ending_portfolio_prices)"
   ]
  },
  {
   "cell_type": "code",
   "execution_count": 16,
   "metadata": {},
   "outputs": [
    {
     "data": {
      "text/plain": [
       "0.05    37.132139\n",
       "0.95    90.969353\n",
       "Name: 7560, dtype: float64"
      ]
     },
     "execution_count": 16,
     "metadata": {},
     "output_type": "execute_result"
    }
   ],
   "source": [
    "# Display the 90% confidence interval for the ending returns\n",
    "confidence_interval = ending_portfolio_prices.quantile(q= [0.05, 0.95])\n",
    "confidence_interval"
   ]
  },
  {
   "cell_type": "code",
   "execution_count": 17,
   "metadata": {},
   "outputs": [
    {
     "data": {
      "text/plain": [
       "<matplotlib.lines.Line2D at 0x26ce2c28108>"
      ]
     },
     "execution_count": 17,
     "metadata": {},
     "output_type": "execute_result"
    },
    {
     "data": {
      "image/png": "[encoded data removed]",
      "text/plain": [
       "<Figure size 432x288 with 1 Axes>"
      ]
     },
     "metadata": {
      "needs_background": "light"
     },
     "output_type": "display_data"
    }
   ],
   "source": [
    "# Visualize the distribution of the ending returns\n",
    "plt.figure();\n",
    "ending_portfolio_prices.plot(kind='hist', bins=50)\n",
    "plt.axvline(confidence_interval.iloc[0], color='r')\n",
    "plt.axvline(confidence_interval.iloc[1], color='r')"
   ]
  },
  {
   "cell_type": "markdown",
   "metadata": {},
   "source": [
    "---"
   ]
  },
  {
   "cell_type": "markdown",
   "metadata": {},
   "source": [
    "## Retirement Analysis\n",
    "\n",
    "In this section, you will use the monte carlo model to answer the following retirement planning questions:\n",
    "\n",
    "1. What are the expected cumulative returns at `30` years for the `10th`, `50th`, and `90th` percentiles?\n",
    "\n",
    "2. Given an initial investment of `$20,000`, what is the expected return in dollars at the `10th`, `50th`, and `90th` percentiles?\n",
    "\n",
    "3. Given the current projected annual income from the Plaid analysis, will a `4%` withdrawal rate meet or exceed that value at the `10th` percentile? Note: This is basically determining if retirement income is equivalent to current income.\n",
    "\n",
    "4. How would a `50%` increase in the initial investment amount affect the `4%` retirement withdrawal? In other words, what happens if the initial investment had been bigger?"
   ]
  },
  {
   "cell_type": "markdown",
   "metadata": {},
   "source": [
    "### What are the expected cumulative returns at 30 years for the 10th, 50th, and 90th percentiles?"
   ]
  },
  {
   "cell_type": "code",
   "execution_count": 18,
   "metadata": {},
   "outputs": [
    {
     "name": "stdout",
     "output_type": "stream",
     "text": [
      "The expected cumulative returns at 30 years for the 10th percentile is 40.19,\n",
      "50th percentile is 58.91 and 90th percentile is 82.99.\n"
     ]
    }
   ],
   "source": [
    "# Compute cumulative returns\n",
    "expected_return_10th_percentile = round(ending_portfolio_prices.quantile(0.1), 2)\n",
    "expected_return_50th_percentile = round(ending_portfolio_prices.quantile(0.5), 2)\n",
    "expected_return_90th_percentile = round(ending_portfolio_prices.quantile(0.9), 2)\n",
    "print(f\"The expected cumulative returns at 30 years for the 10th percentile is {expected_return_10th_percentile},\")\n",
    "print(f\"50th percentile is {expected_return_50th_percentile} and 90th percentile is {expected_return_90th_percentile}.\")"
   ]
  },
  {
   "cell_type": "markdown",
   "metadata": {},
   "source": [
    "### Given an initial investment of `$20,000`, what is the expected portfolio return in dollars at the 10th, 50th, and 90th percentiles?"
   ]
  },
  {
   "cell_type": "code",
   "execution_count": 19,
   "metadata": {},
   "outputs": [
    {
     "name": "stdout",
     "output_type": "stream",
     "text": [
      "The expected cumulative returns at 30 years in dollars at the 10th percentile is $803,858.74,\n",
      "50th percentile is $1,178,194.04 and 90th percentile is $1,659,792.34.\n"
     ]
    }
   ],
   "source": [
    "# Set initial investment\n",
    "initial_investment = 20000\n",
    "# Compute expected portfolio return\n",
    "expected_dollar_return_10th_percentile = round(initial_investment * (ending_portfolio_prices.quantile(0.1)), 2)\n",
    "expected_dollar_return_50th_percentile = round(initial_investment * (ending_portfolio_prices.quantile(0.5)), 2)\n",
    "expected_dollar_return_90th_percentile = round(initial_investment * (ending_portfolio_prices.quantile(0.9)), 2)\n",
    "print(f\"The expected cumulative returns at 30 years in dollars at the 10th percentile is ${expected_dollar_return_10th_percentile:,},\")\n",
    "print(f\"50th percentile is ${expected_dollar_return_50th_percentile:,} and 90th percentile is ${expected_dollar_return_90th_percentile:,}.\")"
   ]
  },
  {
   "cell_type": "markdown",
   "metadata": {},
   "source": [
    "### Given the current projected annual income from the Plaid analysis, will a 4% withdraw rate from the retirement portfolio meet or exceed that value at the 10th percentile?\n",
    "\n",
    "Note: This is effectively saying that 90% of the expected returns will be greater than the return at the 10th percentile, so this can help measure the uncertainty about having enough funds at retirement"
   ]
  },
  {
   "cell_type": "code",
   "execution_count": 20,
   "metadata": {},
   "outputs": [
    {
     "name": "stdout",
     "output_type": "stream",
     "text": [
      "The retirement income meets or exceeds the current projected annual income by $26,069.35\n"
     ]
    }
   ],
   "source": [
    "# Set Plaid's projected income\n",
    "projected_yearly_income = 6085  # From the previous session, we found that the projected yearly income from the Plaid was $6085 (after tax)\n",
    "\n",
    "# Calculate the 4% withdrawal for the ending return as retirement income\n",
    "withdraw_rate = 0.04\n",
    "retirement_income = round(expected_dollar_return_10th_percentile * withdraw_rate, 2)\n",
    "\n",
    "# Determine if the retirement income meets or exceeds the current projected income\n",
    "if retirement_income >= projected_yearly_income:\n",
    "    print(f'The retirement income meets or exceeds the current projected annual income by ${retirement_income - projected_yearly_income:,}')\n",
    "else:\n",
    "    print(f'The retirement income does not meet or exceed the current projected annual income, falling short of ${projected_yearly_income - retirement_income:,}')"
   ]
  },
  {
   "cell_type": "markdown",
   "metadata": {},
   "source": [
    "### How would a 50% increase in the initial investment amount affect the 4% retirement withdrawal?"
   ]
  },
  {
   "cell_type": "code",
   "execution_count": 21,
   "metadata": {},
   "outputs": [
    {
     "name": "stdout",
     "output_type": "stream",
     "text": [
      "The retirement income meets or exceeds the current projected annual income by $42,146.52\n"
     ]
    }
   ],
   "source": [
    "# Re-calculate the retirement income with a 50% increase in the initial investment amount\n",
    "initial_investment_increase = 20000 * 1.5\n",
    "# Compute expected portfolio return\n",
    "expected_dollar_return_10th_percentile_increase = round(initial_investment_increase * (ending_portfolio_prices.quantile(0.1)), 2)\n",
    "retirement_income = round(expected_dollar_return_10th_percentile_increase * withdraw_rate, 2)\n",
    "# Determine if the retirement income meets or exceeds the current projected income\n",
    "if retirement_income >= projected_yearly_income:\n",
    "    print(f'The retirement income meets or exceeds the current projected annual income by ${retirement_income - projected_yearly_income:,}')\n",
    "else:\n",
    "    print(f'The retirement income does not meet or exceed the current projected annual income, falling short of ${projected_yearly_income - retirement_income:,}')"
   ]
  },
  {
   "cell_type": "markdown",
   "metadata": {},
   "source": [
    "### Optional Challenge\n",
    "\n",
    "Use the Monte Carlo data and calculate the cumulative returns at the `5%`, `50%`, and `95%` quartiles and plot this data as a line chart to see how the cumulative returns change over the life of the investment.\n",
    "\n",
    "In this section, you need to calculate and plot the cumulative returns for the median and `90%` confidence intervals. This plot shows the expected cumulative returns for any given day between the first day and the last day of investment. "
   ]
  },
  {
   "cell_type": "markdown",
   "metadata": {},
   "source": [
    "#### Since each quartile is interpolated by default, we need to find the nearest value to each quartile to find out the specific cumulative return."
   ]
  },
  {
   "cell_type": "code",
   "execution_count": 29,
   "metadata": {},
   "outputs": [],
   "source": [
    "# Find the nearest to each of 5th, 50%, 95% quartile.\n",
    "nearest_5th = ending_portfolio_prices.quantile([0.05][0], interpolation='nearest')\n",
    "nearest_50th = ending_portfolio_prices.quantile([0.5][0], interpolation='nearest')\n",
    "nearest_95th = ending_portfolio_prices.quantile([0.95][0], interpolation='nearest')"
   ]
  },
  {
   "cell_type": "code",
   "execution_count": 31,
   "metadata": {},
   "outputs": [
    {
     "data": {
      "text/plain": [
       "383"
      ]
     },
     "execution_count": 31,
     "metadata": {},
     "output_type": "execute_result"
    }
   ],
   "source": [
    "# Define a function that returns each index of the above three quratiles\n",
    "def index_finder(nearest_value):\n",
    "    for i in range(len(ending_portfolio_prices)):\n",
    "         if ending_portfolio_prices.get(i) == nearest_value:\n",
    "            return i\n",
    "# Test for nearest_5th\n",
    "index_finder(nearest_95th)"
   ]
  },
  {
   "cell_type": "markdown",
   "metadata": {},
   "source": [
    "### Using the index_finder function to get each portfolio cumulative returns, given initial investment of USD20,000 "
   ]
  },
  {
   "cell_type": "code",
   "execution_count": 42,
   "metadata": {},
   "outputs": [
    {
     "data": {
      "text/plain": [
       "0    20000.000000\n",
       "1    19893.134585\n",
       "2    19936.788707\n",
       "3    20006.554223\n",
       "4    20017.172048\n",
       "Name: 383, dtype: float64"
      ]
     },
     "execution_count": 42,
     "metadata": {},
     "output_type": "execute_result"
    }
   ],
   "source": [
    "# Compute projected returns\n",
    "cumulative_return_5th_quartile = initial_investment * portfolio_cumulative_returns[index_finder(nearest_5th)]\n",
    "cumulative_return_50th_quartile = initial_investment * portfolio_cumulative_returns[index_finder(nearest_50th)]\n",
    "cumulative_return_95th_quartile = initial_investment * portfolio_cumulative_returns[index_finder(nearest_95th)]\n",
    "\n",
    "# Display sample data\n",
    "cumulative_return_95th_quartile.head()"
   ]
  },
  {
   "cell_type": "code",
   "execution_count": 36,
   "metadata": {},
   "outputs": [
    {
     "data": {
      "text/plain": [
       "<matplotlib.axes._subplots.AxesSubplot at 0x26ce5f8eec8>"
      ]
     },
     "execution_count": 36,
     "metadata": {},
     "output_type": "execute_result"
    },
    {
     "data": {
      "image/png": "[encoded data removed]",
      "text/plain": [
       "<Figure size 432x288 with 1 Axes>"
      ]
     },
     "metadata": {
      "needs_background": "light"
     },
     "output_type": "display_data"
    }
   ],
   "source": [
    "# Plot the cumulative returns over time\n",
    "cumulative_return_95th_quartile.plot()"
   ]
  },
  {
   "cell_type": "markdown",
   "metadata": {},
   "source": [
    "#### Lastly, plot projected performance over time by overlaying each quartile into a single plot"
   ]
  },
  {
   "cell_type": "code",
   "execution_count": 40,
   "metadata": {},
   "outputs": [
    {
     "data": {
      "text/plain": [
       "<matplotlib.legend.Legend at 0x26ce5fdb348>"
      ]
     },
     "execution_count": 40,
     "metadata": {},
     "output_type": "execute_result"
    },
    {
     "data": {
      "image/png": "[encoded data removed]",
      "text/plain": [
       "<Figure size 432x288 with 1 Axes>"
      ]
     },
     "metadata": {
      "needs_background": "light"
     },
     "output_type": "display_data"
    }
   ],
   "source": [
    "# Plot projected performance over time\n",
    "ax = cumulative_return_5th_quartile.plot()\n",
    "cumulative_return_50th_quartile.plot(ax=ax)\n",
    "cumulative_return_95th_quartile.plot(ax=ax)\n",
    "\n",
    "ax.legend(['5th quartile', \n",
    "           '50th quartile', \n",
    "           '95th quartile'])"
   ]
  },
  {
   "cell_type": "code",
   "execution_count": null,
   "metadata": {},
   "outputs": [],
   "source": []
  }
 ],
 "metadata": {
  "kernelspec": {
   "display_name": "Python 3",
   "language": "python",
   "name": "python3"
  },
  "language_info": {
   "codemirror_mode": {
    "name": "ipython",
    "version": 3
   },
   "file_extension": ".py",
   "mimetype": "text/x-python",
   "name": "python",
   "nbconvert_exporter": "python",
   "pygments_lexer": "ipython3",
   "version": "3.7.7"
  }
 },
 "nbformat": 4,
 "nbformat_minor": 4
}
